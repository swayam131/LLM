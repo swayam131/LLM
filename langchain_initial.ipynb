{
 "cells": [
  {
   "cell_type": "code",
   "execution_count": 1,
   "id": "f3a8d13b",
   "metadata": {},
   "outputs": [],
   "source": [
    "import os\n",
    "os.environ['OPENAI_API_KEY'] = \"\""
   ]
  },
  {
   "cell_type": "code",
   "execution_count": 2,
   "id": "e41fab6b",
   "metadata": {},
   "outputs": [
    {
     "name": "stderr",
     "output_type": "stream",
     "text": [
      "C:\\Users\\User1\\AppData\\Local\\Temp\\ipykernel_24108\\2029682155.py:3: LangChainDeprecationWarning: The class `OpenAI` was deprecated in LangChain 0.0.10 and will be removed in 1.0. An updated version of the class exists in the :class:`~langchain-openai package and should be used instead. To use it run `pip install -U :class:`~langchain-openai` and import as `from :class:`~langchain_openai import OpenAI``.\n",
      "  llm = OpenAI(temperature=0.9)\n",
      "C:\\Users\\User1\\AppData\\Local\\Temp\\ipykernel_24108\\2029682155.py:4: LangChainDeprecationWarning: The method `BaseLLM.predict` was deprecated in langchain-core 0.1.7 and will be removed in 1.0. Use :meth:`~invoke` instead.\n",
      "  name = llm.predict(\"I want to know all the enhancers for mouse gene nanog from ENCODE project. Give me the enhancers names and coordinates.\")\n"
     ]
    },
    {
     "name": "stdout",
     "output_type": "stream",
     "text": [
      "\n",
      "\n",
      "Unfortunately, the ENCODE project does not have a specific set of enhancers for the mouse gene nanog. Instead, the project focuses on identifying functional elements in the genome, including enhancers, across the entire genome rather than for specific genes. As a result, there is not a list of enhancers specifically for the nanog gene in the ENCODE project.\n",
      "\n",
      "However, you can use the ENCODE portal (https://www.encodeproject.org/) to search for enhancers in the general vicinity of the nanog gene in the mouse genome. Here are the steps to follow:\n",
      "\n",
      "1. Go to the ENCODE portal and enter \"nanog\" into the search bar.\n",
      "2. Under \"Filters\" on the left side of the page, click on \"Data Type\" and select \"Enhancer\".\n",
      "3. Under \"Assembly\" select \"mm10\".\n",
      "4. Under \"Regions\" select \"gene\" and enter \"nanog\" into the search bar.\n",
      "5. Click on the \"Search\" button.\n",
      "\n",
      "This search will retrieve a list of enhancers that have been identified in the general vicinity of the nanog gene in the mouse genome. You can click on each enhancer to view more information, including its coordinates and any associated publications. Please note that this list\n"
     ]
    }
   ],
   "source": [
    "from langchain.llms import OpenAI\n",
    "\n",
    "llm = OpenAI(temperature=0.9)\n",
    "name = llm.predict(\"I want to know all the enhancers for mouse gene nanog from ENCODE project. Give me the enhancers names and coordinates.\")\n",
    "print(name)"
   ]
  },
  {
   "cell_type": "code",
   "execution_count": 3,
   "id": "54128906",
   "metadata": {},
   "outputs": [
    {
     "name": "stderr",
     "output_type": "stream",
     "text": [
      "C:\\Users\\User1\\AppData\\Local\\Temp\\ipykernel_24108\\1011844947.py:1: LangChainDeprecationWarning: The method `BaseLLM.__call__` was deprecated in langchain-core 0.1.7 and will be removed in 1.0. Use :meth:`~invoke` instead.\n",
      "  llm(\"I want to know all the enhancers for mouse gene nanog from ENCODE project. Give me the enhancers names and coordinates.\")\n"
     ]
    },
    {
     "data": {
      "text/plain": [
       "'\\n\\nUnfortunately, I am an AI and do not have access to the ENCODE database to provide specific information on enhancers for the mouse gene nanog. However, you can find this information by searching for the gene on the ENCODE portal (https://www.encodeproject.org/). Under the \"Functional Annotation\" section, you can click on \"Enhancers\" to view the enhancer regions and coordinates for the gene. Additionally, you can download the data file for the enhancers and filter for those specifically related to the mouse gene nanog.'"
      ]
     },
     "execution_count": 3,
     "metadata": {},
     "output_type": "execute_result"
    }
   ],
   "source": [
    "llm(\"I want to know all the enhancers for mouse gene nanog from ENCODE project. Give me the enhancers names and coordinates.\")"
   ]
  },
  {
   "cell_type": "code",
   "execution_count": 4,
   "id": "683a6628",
   "metadata": {},
   "outputs": [
    {
     "name": "stdout",
     "output_type": "stream",
     "text": [
      "I want to know enhancers for sox2. Give all the names.\n"
     ]
    }
   ],
   "source": [
    "from langchain.prompts import PromptTemplate\n",
    "\n",
    "prompt_template_name = PromptTemplate(\n",
    "    input_variables =['gene'],\n",
    "    template = \"I want to know enhancers for {gene}. Give all the names.\"\n",
    ")\n",
    "p = prompt_template_name.format(gene=\"sox2\")\n",
    "print(p)"
   ]
  },
  {
   "cell_type": "code",
   "execution_count": 5,
   "id": "85641cd6",
   "metadata": {},
   "outputs": [
    {
     "name": "stderr",
     "output_type": "stream",
     "text": [
      "C:\\Users\\User1\\AppData\\Local\\Temp\\ipykernel_24108\\2170795051.py:3: LangChainDeprecationWarning: The class `LLMChain` was deprecated in LangChain 0.1.17 and will be removed in 1.0. Use :meth:`~RunnableSequence, e.g., `prompt | llm`` instead.\n",
      "  chain = LLMChain(llm=llm, prompt=prompt_template_name)\n",
      "C:\\Users\\User1\\AppData\\Local\\Temp\\ipykernel_24108\\2170795051.py:4: LangChainDeprecationWarning: The method `Chain.run` was deprecated in langchain 0.1.0 and will be removed in 1.0. Use :meth:`~invoke` instead.\n",
      "  chain.run(\"sox2\")\n"
     ]
    },
    {
     "data": {
      "text/plain": [
       "'\\n1. Wnt signaling pathway\\n2. Notch signaling pathway\\n3. FGF signaling pathway\\n4. TGF-β signaling pathway\\n5. BMP signaling pathway\\n6. Oct4 enhancer\\n7. Nanog enhancer\\n8. Klf4 enhancer\\n9. Stat3 enhancer\\n10. Paf1 enhancer\\n11. Gli2 enhancer\\n12. Hoxc9 enhancer\\n13. Nkx2.5 enhancer\\n14. Tbx3 enhancer\\n15. Hdac1 enhancer\\n16. Gata2 enhancer\\n17. Pax6 enhancer\\n18. Myc enhancer\\n19. Mapk14 enhancer\\n20. Zeb1 enhancer'"
      ]
     },
     "execution_count": 5,
     "metadata": {},
     "output_type": "execute_result"
    }
   ],
   "source": [
    "from langchain.chains import LLMChain\n",
    "\n",
    "chain = LLMChain(llm=llm, prompt=prompt_template_name)\n",
    "chain.run(\"sox2\")"
   ]
  },
  {
   "cell_type": "code",
   "execution_count": 6,
   "id": "17c21c4f",
   "metadata": {},
   "outputs": [
    {
     "name": "stdout",
     "output_type": "stream",
     "text": [
      "\n",
      "\n",
      "\u001b[1m> Entering new LLMChain chain...\u001b[0m\n",
      "Prompt after formatting:\n",
      "\u001b[32;1m\u001b[1;3mI want to know enhancers for sox2. Give all the names.\u001b[0m\n",
      "\n",
      "\u001b[1m> Finished chain.\u001b[0m\n"
     ]
    },
    {
     "data": {
      "text/plain": [
       "'\\n\\nSome known enhancers for the gene Sox2 include:\\n1. Sox2 distal enhancer (SDE)\\n2. Sox2 minimal enhancer (SME)\\n3. Sox2 proximal enhancer (SPE)\\n4. Sox2 enhancer region 1 and 2 (SER1 and SER2)\\n5. Sox2 distal neuroectoderm enhancer (SNEE)\\n6. Sox2 neural enhancer (SNE)\\n7. Sox2 retina enhancer (SRE)\\n8. Sox2 thalamus enhancer (STE)\\n9. Sox2 cranial neural crest enhancer (SCNE)\\n10. Sox2 pituitary enhancer (SPE)'"
      ]
     },
     "execution_count": 6,
     "metadata": {},
     "output_type": "execute_result"
    }
   ],
   "source": [
    "chain = LLMChain(llm=llm, prompt=prompt_template_name, verbose=True)\n",
    "chain.run(\"sox2\")"
   ]
  },
  {
   "cell_type": "code",
   "execution_count": 7,
   "id": "f41d62dc",
   "metadata": {},
   "outputs": [],
   "source": [
    "llm = OpenAI(temperature=0.6)\n",
    "\n",
    "prompt_template_name = PromptTemplate(\n",
    "    input_variables =['gene'],\n",
    "    template = \"I want to know enhancers for {gene}. Give all the names.\"\n",
    ")\n",
    "\n",
    "name_chain =LLMChain(llm=llm, prompt=prompt_template_name)\n",
    "\n",
    "prompt_template_items = PromptTemplate(\n",
    "    input_variables = ['assembly'],\n",
    "    template=\"\"\"Suggest enhancers for {assembly}\"\"\"\n",
    ")\n",
    "\n",
    "enhancer_items_chain = LLMChain(llm=llm, prompt=prompt_template_items)"
   ]
  },
  {
   "cell_type": "code",
   "execution_count": 8,
   "id": "db1959a2",
   "metadata": {},
   "outputs": [
    {
     "name": "stdout",
     "output_type": "stream",
     "text": [
      "\n",
      "\n",
      "1. SOX2\n",
      "2. LIN28\n",
      "3. FGF4\n",
      "4. WNT3A\n",
      "5. BCL6\n",
      "6. ATF2\n",
      "7. HOXA9\n",
      "8. CREB\n",
      "9. IL6\n",
      "10. BMP4\n",
      "11. SOX9\n",
      "12. SMAD2/3\n",
      "13. ZNF521\n",
      "14. NOTCH1\n",
      "15. NFE2L2\n",
      "16. POU5F1\n",
      "17. FOXP1\n",
      "18. MYC\n",
      "19. PPARG\n",
      "20. TP53\n"
     ]
    }
   ],
   "source": [
    "from langchain.chains import SimpleSequentialChain\n",
    "chain = SimpleSequentialChain(chains = [name_chain, enhancer_items_chain])\n",
    "\n",
    "content = chain.run(\"sox2\")\n",
    "print(content)"
   ]
  },
  {
   "cell_type": "code",
   "execution_count": 9,
   "id": "345666c4",
   "metadata": {},
   "outputs": [],
   "source": [
    "llm = OpenAI(temperature=0.7)\n",
    "\n",
    "prompt_template_name = PromptTemplate(\n",
    "    input_variables =['gene'],\n",
    "    template = \"I want to know enhancers for {gene}. Give all the names.\"\n",
    ")\n",
    "\n",
    "name_chain =LLMChain(llm=llm, prompt=prompt_template_name, output_key=\"assembly\")"
   ]
  },
  {
   "cell_type": "code",
   "execution_count": 10,
   "id": "c2ed18cf",
   "metadata": {},
   "outputs": [],
   "source": [
    "llm = OpenAI(temperature=0.7)\n",
    "\n",
    "prompt_template_items = PromptTemplate(\n",
    "    input_variables = ['assembly'],\n",
    "    template=\"Give enhancers for {assembly}.\"\n",
    ")\n",
    "\n",
    "enhancer_items_chain =LLMChain(llm=llm, prompt=prompt_template_items, output_key=\"enhancers\")"
   ]
  },
  {
   "cell_type": "code",
   "execution_count": 11,
   "id": "a68d7dec",
   "metadata": {},
   "outputs": [],
   "source": [
    "from langchain.chains import SequentialChain\n",
    "\n",
    "chain = SequentialChain(\n",
    "    chains = [name_chain, enhancer_items_chain],\n",
    "    input_variables = ['gene'],\n",
    "    output_variables = ['assembly', \"enhancers\"]\n",
    ")"
   ]
  },
  {
   "cell_type": "code",
   "execution_count": 12,
   "id": "59585234",
   "metadata": {},
   "outputs": [
    {
     "name": "stderr",
     "output_type": "stream",
     "text": [
      "C:\\Users\\User1\\AppData\\Local\\Temp\\ipykernel_24108\\4281663305.py:1: LangChainDeprecationWarning: The method `Chain.__call__` was deprecated in langchain 0.1.0 and will be removed in 1.0. Use :meth:`~invoke` instead.\n",
      "  chain({\"gene\": \"sox2\"})\n"
     ]
    },
    {
     "data": {
      "text/plain": [
       "{'gene': 'sox2',\n",
       " 'assembly': '\\n1. OCT4\\n2. NANOG\\n3. KLF4\\n4. c-Myc\\n5. SALL4\\n6. ZIC2\\n7. E2F1\\n8. SP1\\n9. FOXD3\\n10. POU5F1\\n11. POU2F1\\n12. SOX3\\n13. FOXG1\\n14. NR2F2\\n15. JARID1A\\n16. LSD1\\n17. BRD4\\n18. YY1\\n19. GATA4\\n20. TCF3',\n",
       " 'enhancers': ' \\n\\n1. OCT4: \\na) Retinoic Acid - a vitamin A derivative that has been shown to enhance OCT4 expression \\nb) Valproic Acid - a histone deacetylase inhibitor that can upregulate OCT4 \\nc) Ascorbic Acid - a vitamin C derivative that can activate OCT4 expression \\nd) Forskolin - a cAMP activator that can increase OCT4 levels \\n\\n2. NANOG: \\na) BMP4 - a bone morphogenetic protein that can induce NANOG expression \\nb) FGF2 - a fibroblast growth factor that can upregulate NANOG \\nc) Leukemia Inhibitory Factor (LIF) - a cytokine that can maintain NANOG expression \\nd) Epidermal Growth Factor (EGF) - a growth factor that can activate NANOG \\n\\n3. KLF4: \\na) TGF-beta - a transforming growth factor that can increase KLF4 levels \\nb) Sulforaphane - a compound found in cruciferous vegetables that can enhance KLF4 expression \\nc) Resveratrol - a plant compound that can upregulate KLF4 through epigenetic mechanisms \\nd) Melatonin - a hormone that'}"
      ]
     },
     "execution_count": 12,
     "metadata": {},
     "output_type": "execute_result"
    }
   ],
   "source": [
    "chain({\"gene\": \"sox2\"})"
   ]
  },
  {
   "cell_type": "code",
   "execution_count": null,
   "id": "7e26514a",
   "metadata": {},
   "outputs": [],
   "source": []
  },
  {
   "cell_type": "code",
   "execution_count": null,
   "id": "1beda8f2",
   "metadata": {},
   "outputs": [],
   "source": []
  }
 ],
 "metadata": {
  "kernelspec": {
   "display_name": "Python 3 (ipykernel)",
   "language": "python",
   "name": "python3"
  },
  "language_info": {
   "codemirror_mode": {
    "name": "ipython",
    "version": 3
   },
   "file_extension": ".py",
   "mimetype": "text/x-python",
   "name": "python",
   "nbconvert_exporter": "python",
   "pygments_lexer": "ipython3",
   "version": "3.10.6"
  }
 },
 "nbformat": 4,
 "nbformat_minor": 5
}
